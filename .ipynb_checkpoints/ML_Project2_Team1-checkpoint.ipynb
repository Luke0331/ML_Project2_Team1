{
 "cells": [
  {
   "cell_type": "markdown",
   "id": "a30033b4-a2d6-452f-9364-36227675d537",
   "metadata": {},
   "source": [
    "# Team 1: From black box to explanable AI: the trade-off between accuracy of complexity\n"
   ]
  },
  {
   "cell_type": "markdown",
   "id": "62c1c26e-82d4-4b1c-a10a-32bda882e735",
   "metadata": {},
   "source": [
    "In the project we are exploring multiple machine learning methods spanning different ranges of explainability, complexity, and accuracy"
   ]
  },
  {
   "cell_type": "markdown",
   "id": "a6597563-4759-4230-85e3-d379723a3fe0",
   "metadata": {},
   "source": [
    "# 0. Setup workspace and Import packages "
   ]
  },
  {
   "cell_type": "code",
   "execution_count": null,
   "id": "b4db8e2e-0d3e-4436-9df9-0600320cfc07",
   "metadata": {},
   "outputs": [],
   "source": [
    "%%capture\n",
    "import importlib\n",
    "\n",
    "# Check and install torch\n",
    "if importlib.util.find_spec(\"torch\") is None:\n",
    "    !pip install torch\n",
    "\n",
    "# Check and install zarr\n",
    "if importlib.util.find_spec(\"zarr\") is None:\n",
    "    !pip install zarr\n",
    "\n",
    "# Ensure xarray is upgraded\n",
    "!pip install --upgrade xarray\n"
   ]
  },
  {
   "cell_type": "code",
   "execution_count": null,
   "id": "bad57272-762b-4dd8-b3bb-f1fe489bf077",
   "metadata": {},
   "outputs": [],
   "source": [
    "import os\n",
    "import numpy as np\n",
    "import matplotlib.pyplot as plt\n",
    "import copy as copy\n",
    "import matplotlib as mpl\n",
    "import netCDF4 as ncd\n",
    "import torch\n",
    "import torch.nn as nn\n",
    "import torch.nn.functional as F\n",
    "from torch.autograd import Variable\n",
    "import torch.utils.data as Data\n",
    "from torch import nn, optim\n",
    "import matplotlib.cm as cm\n",
    "import copy as copy\n",
    "import multiprocessing as mp\n",
    "from scipy import stats\n",
    "import time as time\n",
    "import matplotlib.font_manager\n",
    "import seaborn as sns\n",
    "import pandas as pd\n",
    "from tqdm import tqdm  # Import tqdm for the progress bar\n",
    "import xarray as xr\n",
    "import requests\n",
    "\n",
    "from datetime import datetime\n",
    "import warnings\n",
    "\n",
    "warnings.filterwarnings(\"ignore\", category=FutureWarning)\n",
    "\n",
    "today = datetime.today()\n",
    "torch.cuda.empty_cache()\n",
    "\n",
    "cwd=os.getcwd()\n",
    "parent_dir = os.path.dirname(cwd)\n",
    "os.chdir(parent_dir)\n",
    "cwd = parent_dir\n",
    "print(\"Current working directory:\", os.getcwd())\n",
    "\n",
    "# custom modules\n",
    "import lib.func_file as ff\n",
    "from lib.visual_figure4 import performance_sigma_point\n",
    "from lib.visual_figure3 import score_eval, save_losses_by_seed, plot_n1_scores\n",
    "\n",
    "np.random.seed(100)\n",
    "\n",
    "cwd_data = cwd + '/data/'\n",
    "## \n",
    "cwd_output = cwd + '/output/'\n",
    "device = torch.device(\"cuda\" if torch.cuda.is_available() else \"cpu\")"
   ]
  },
  {
   "cell_type": "markdown",
   "id": "b69d76bf-7b2b-4dde-be03-99d7228fb772",
   "metadata": {},
   "source": [
    "### PySR specific packages "
   ]
  },
  {
   "cell_type": "code",
   "execution_count": null,
   "id": "a29d97e7-c2a7-4a53-ba7d-e7986b70fe64",
   "metadata": {},
   "outputs": [],
   "source": [
    "# load PySR\n",
    "!pip install -U pysr"
   ]
  },
  {
   "cell_type": "code",
   "execution_count": null,
   "id": "06934d27-bd97-4199-bb01-9fdf9404eb61",
   "metadata": {},
   "outputs": [],
   "source": [
    "import pysr\n",
    "import sympy\n",
    "from pysr import PySRRegressor\n"
   ]
  },
  {
   "cell_type": "markdown",
   "id": "15dfceee-d2ed-42e9-b0ba-670c6de95726",
   "metadata": {},
   "source": [
    "# 1. Neural Network"
   ]
  },
  {
   "cell_type": "markdown",
   "id": "ec7afe6c-6e59-422d-b136-4638d577fb69",
   "metadata": {},
   "source": [
    "# 2. Gaussian Process"
   ]
  },
  {
   "cell_type": "markdown",
   "id": "485e4eae-91f1-48da-9404-873863b4a267",
   "metadata": {},
   "source": [
    "# 3. Symbolic Regression"
   ]
  },
  {
   "cell_type": "code",
   "execution_count": null,
   "id": "5ca72b85-9861-4a6f-ab3d-5d3673efcda0",
   "metadata": {},
   "outputs": [],
   "source": []
  }
 ],
 "metadata": {
  "kernelspec": {
   "display_name": "Python 3 (ipykernel)",
   "language": "python",
   "name": "python3"
  },
  "language_info": {
   "codemirror_mode": {
    "name": "ipython",
    "version": 3
   },
   "file_extension": ".py",
   "mimetype": "text/x-python",
   "name": "python",
   "nbconvert_exporter": "python",
   "pygments_lexer": "ipython3",
   "version": "3.12.7"
  }
 },
 "nbformat": 4,
 "nbformat_minor": 5
}
